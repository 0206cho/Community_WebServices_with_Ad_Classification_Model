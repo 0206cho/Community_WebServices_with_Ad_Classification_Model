{
 "cells": [
  {
   "cell_type": "code",
   "execution_count": 5,
   "metadata": {},
   "outputs": [],
   "source": [
    "import unicodedata\n",
    "import re\n",
    "import pandas as pd"
   ]
  },
  {
   "cell_type": "code",
   "execution_count": 6,
   "metadata": {},
   "outputs": [],
   "source": [
    "def process_data(result):\n",
    "    result = pd.DataFrame([result], columns=['text'])\n",
    "    result['text']=result['text'].apply(lambda x:' '.join(x.strip('[\"\"').strip('\"\"]').strip(\"['\").strip(\"\\\\n']\").split(\"\\\\n', '\")).replace(\"\\\\n\",\"\") )\n",
    "    result['text']=result['text'].apply(lambda x: unicodedata.normalize('NFC',x ))\n",
    "    result['text']=result['text'].apply(lambda x: re.sub('[^A-Za-z0-9ㄱ-ㅣ가-힣 #.?!@]','',x))\n",
    "    result['text']=result['text'].apply(lambda x: re.sub('[ㄱ-ㅣ]',' ',x))\n",
    "    result['text']=result['text'].apply(lambda x: x.replace(\"u200a\",\"\"))\n",
    "    result['text']=result['text'].apply(lambda x: x.replace(\"u200b\",\"\"))\n",
    "    result['text']=result['text'].apply(lambda x: x.replace(\"u200c\",\"\"))\n",
    "    result['text']=result['text'].apply(lambda x: x.replace(\"u200d\",\"\"))\n",
    "    result['text']=result['text'].apply(lambda x: x.replace(\"u200e\",\"\"))\n",
    "    result['text']=result['text'].apply(lambda x: x.replace(\"u200f\",\"\"))\n",
    "    result['text']=result['text'].apply(lambda x: x.replace(\"#\",' ').replace(\".\",' ').replace(\"?\",' ').replace(\"!\",' ').replace(\"@\",' '))\n",
    "    result['text']=result['text'].apply(lambda x: re.sub(' +',' ',x.replace(\"\\n\",\" \")))\n",
    "    result = result['text'].values.tolist()\n",
    "    return result"
   ]
  },
  {
   "cell_type": "code",
   "execution_count": 10,
   "metadata": {},
   "outputs": [],
   "source": [
    "def process_data2(result):\n",
    "    result = pd.DataFrame([result], columns=['text'])\n",
    "    result['text']=result['text'].apply(lambda x: re.sub(' +',' ',x.replace(\"\\n\",\" \")))\n",
    "    result = result['text'].values.tolist()\n",
    "    print(result)\n",
    "    return result"
   ]
  },
  {
   "cell_type": "code",
   "execution_count": 11,
   "metadata": {},
   "outputs": [
    {
     "name": "stdout",
     "output_type": "stream",
     "text": [
      "['#어제피드 #시크표정😏 #영상있어요 #협찬아님 코딩 로봇 놀이. 혼자 스스로 만들기. 하루종일 집중. 또집중. 일어나자마자 갖고놀기^^ 손가락 터치로 움직이고 장애물과 박수소리에는 스탑. 신기신기ㅎ 똑똑하고 멋진 아들이 되어주길. 울 크림이는 덤♡ #초딩 #코딩 #네오봇에듀 #로봇 #초등교과서5종 #즐겁']\n"
     ]
    }
   ],
   "source": [
    "result1 = process_data2(test_)"
   ]
  },
  {
   "cell_type": "code",
   "execution_count": 2,
   "metadata": {},
   "outputs": [],
   "source": [
    "test_ = '#어제피드 #시크표정😏 #영상있어요 #협찬아님 코딩 로봇 놀이. 혼자 스스로 만들기. 하루종일 집중. 또집중. 일어나자마자 갖고놀기^^ 손가락 터치로 움직이고 장애물과 박수소리에는 스탑. 신기신기ㅎ 똑똑하고 멋진 아들이 되어주길.  울 크림이는 덤♡ #초딩 #코딩 #네오봇에듀 #로봇 #초등교과서5종 #즐겁'"
   ]
  },
  {
   "cell_type": "code",
   "execution_count": 9,
   "metadata": {},
   "outputs": [
    {
     "name": "stdout",
     "output_type": "stream",
     "text": [
      "<class 'str'>\n"
     ]
    }
   ],
   "source": [
    "print(type(test_))"
   ]
  },
  {
   "cell_type": "code",
   "execution_count": 8,
   "metadata": {},
   "outputs": [
    {
     "name": "stdout",
     "output_type": "stream",
     "text": [
      "[' 어제피드 시크표정 영상있어요 협찬아님 코딩 로봇 놀이 혼자 스스로 만들기 하루종일 집중 또집중 일어나자마자 갖고놀기 손가락 터치로 움직이고 장애물과 박수소리에는 스탑 신기신기 똑똑하고 멋진 아들이 되어주길 울 크림이는 덤 초딩 코딩 네오봇에듀 로봇 초등교과서5종 즐겁']\n",
      ">>>>>>>>>>>>>>> <class 'list'>\n"
     ]
    }
   ],
   "source": [
    "result_ = process_data(test_)\n",
    "print(result_)\n",
    "print(\">>>>>>>>>>>>>>>\", type(result_))"
   ]
  },
  {
   "cell_type": "code",
   "execution_count": null,
   "metadata": {},
   "outputs": [],
   "source": []
  }
 ],
 "metadata": {
  "kernelspec": {
   "display_name": "Python 3.9.12 ('kobert_')",
   "language": "python",
   "name": "python3"
  },
  "language_info": {
   "codemirror_mode": {
    "name": "ipython",
    "version": 3
   },
   "file_extension": ".py",
   "mimetype": "text/x-python",
   "name": "python",
   "nbconvert_exporter": "python",
   "pygments_lexer": "ipython3",
   "version": "3.9.12"
  },
  "orig_nbformat": 4,
  "vscode": {
   "interpreter": {
    "hash": "c584cb0d2ff0d23d7f365633096f2d7d5596f7296676c1917c80604c9d66a1fe"
   }
  }
 },
 "nbformat": 4,
 "nbformat_minor": 2
}
